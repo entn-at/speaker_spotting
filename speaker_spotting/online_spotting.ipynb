{
 "cells": [
  {
   "cell_type": "code",
   "execution_count": 6,
   "metadata": {
    "collapsed": false
   },
   "outputs": [
    {
     "name": "stdout",
     "output_type": "stream",
     "text": [
      "Populating the interactive namespace from numpy and matplotlib\n"
     ]
    },
    {
     "name": "stderr",
     "output_type": "stream",
     "text": [
      "/people/yin/anaconda3/envs/pyannote_35/lib/python3.5/site-packages/IPython/core/magics/pylab.py:161: UserWarning: pylab import has clobbered these variables: ['step']\n",
      "`%matplotlib` prevents importing * from pylab and numpy\n",
      "  \"\\n`%matplotlib` prevents importing * from pylab and numpy\"\n"
     ]
    }
   ],
   "source": [
    "%pylab inline\n",
    "%load_ext autoreload\n",
    "%autoreload 2"
   ]
  },
  {
   "cell_type": "code",
   "execution_count": 13,
   "metadata": {
    "collapsed": true
   },
   "outputs": [],
   "source": [
    "import numpy as np\n",
    "from pyannote.core import Annotation,Segment, Timeline\n",
    "from pyannote.core import SlidingWindowFeature"
   ]
  },
  {
   "cell_type": "code",
   "execution_count": 1,
   "metadata": {
    "collapsed": true
   },
   "outputs": [],
   "source": [
    "import clustering"
   ]
  },
  {
   "cell_type": "markdown",
   "metadata": {},
   "source": [
    "## Low-latency speaker spotting (LLSS)"
   ]
  },
  {
   "cell_type": "markdown",
   "metadata": {},
   "source": [
    "#### Precompute embeddings"
   ]
  },
  {
   "cell_type": "code",
   "execution_count": 2,
   "metadata": {
    "collapsed": false
   },
   "outputs": [
    {
     "name": "stderr",
     "output_type": "stream",
     "text": [
      "Using Theano backend.\n"
     ]
    }
   ],
   "source": [
    "from pyannote.audio.keras_utils import load_model\n",
    "from pyannote.audio.features import YaafeMFCC\n",
    "from pyannote.audio.embedding.extraction import SequenceEmbedding\n",
    "\n",
    "PRETRAINED_TRISTOUNET = '/people/yin/projects/pyannote-audio/tutorials/speaker-embedding/2+0.5/TristouNet/train/Etape.SpeakerDiarization.TV.train/weights/0986.h5'\n",
    "model = load_model(PRETRAINED_TRISTOUNET)\n",
    "\n",
    "feature_extraction = YaafeMFCC(duration=0.032, step=0.020, sample_rate=16000,\n",
    "                               coefs=11, D=True, DD=True,\n",
    "                               e=False, De=True, DDe=True)\n",
    "\n",
    "duration, step = 2, 1\n",
    "sequence_embedding = SequenceEmbedding(model, feature_extraction, \n",
    "                                       duration, step=step)\n"
   ]
  },
  {
   "cell_type": "code",
   "execution_count": 3,
   "metadata": {
    "collapsed": false
   },
   "outputs": [
    {
     "name": "stderr",
     "output_type": "stream",
     "text": [
      "Training set: 28it [01:04,  1.41s/it]\n",
      "Development set: 9it [00:20,  1.96s/it]\n",
      "Test set: 9it [00:19,  1.90s/it]\n"
     ]
    }
   ],
   "source": [
    "from itertools import chain\n",
    "from pyannote.database import get_protocol, get_unique_identifier\n",
    "from pyannote.audio.embedding.extraction import SequenceEmbedding\n",
    "from pyannote.database import FileFinder\n",
    "\n",
    "protocol = get_protocol('Etape.SpeakerDiarization.TV', preprocessors={'audio': FileFinder()}, progress=True)\n",
    "embeddings = {}\n",
    "for current_file in chain(protocol.train(), protocol.development(), protocol.test()):\n",
    "    embeddings[get_unique_identifier(current_file)] = sequence_embedding.apply(current_file)"
   ]
  },
  {
   "cell_type": "markdown",
   "metadata": {},
   "source": [
    "#### LLSS system 3"
   ]
  },
  {
   "cell_type": "markdown",
   "metadata": {},
   "source": [
    "Oracle online diarization"
   ]
  },
  {
   "cell_type": "code",
   "execution_count": 21,
   "metadata": {
    "collapsed": false
   },
   "outputs": [],
   "source": [
    "def system3(embedding, model, oracle_diarization=None):\n",
    "    onlineOracleClustering = clustering.OnlineOracleClustering('test')\n",
    "    start = embedding.sliding_window[0].start\n",
    "    data = np.zeros((len(embedding.data), 1))\n",
    "    for i, (window, _) in enumerate(embedding):\n",
    "        so_far = Segment(start, window.end)\n",
    "        current_annotation = oracle_diarization.crop(so_far)\n",
    "        score = 0.\n",
    "        for segment, _, label in current_annotation.itertracks(label=True):\n",
    "            #print(label, segment)\n",
    "            example = {}\n",
    "            example['label'] = label\n",
    "            example['segment'] = segment\n",
    "            example['embedding'] = embedding.crop(segment)\n",
    "            onlineOracleClustering.upadateCluster(example)\n",
    "        if not onlineOracleClustering.empty():\n",
    "            min_dist = min(onlineOracleClustering.computeDistances({'embedding': model}))\n",
    "            score = max(score, 2-min_dist)\n",
    "        data[i] = score\n",
    "        start = window.end\n",
    "    return SlidingWindowFeature(data, embedding.sliding_window)"
   ]
  },
  {
   "cell_type": "code",
   "execution_count": 28,
   "metadata": {
    "collapsed": true
   },
   "outputs": [],
   "source": [
    "def system4(embedding, models, oracle_diarization=None):\n",
    "    onlineOracleClustering = clustering.OnlineOracleClustering('test')\n",
    "    start = embedding.sliding_window[0].start\n",
    "    res = {}\n",
    "    scores = {}\n",
    "    for label, _ in models.items():\n",
    "        res[label] =  np.zeros((len(embedding.data), 1))\n",
    "        scores[label] = 0\n",
    "    \n",
    "    \n",
    "    for i, (window, _) in enumerate(embedding):\n",
    "        so_far = Segment(start, window.end)\n",
    "        current_annotation = oracle_diarization.crop(so_far)\n",
    "        score = 0.\n",
    "        for segment, _, label in current_annotation.itertracks(label=True):\n",
    "            #print(label, segment)\n",
    "            example = {}\n",
    "            example['label'] = label\n",
    "            example['segment'] = segment\n",
    "            example['embedding'] = embedding.crop(segment)\n",
    "            onlineOracleClustering.upadateCluster(example)\n",
    "        if not onlineOracleClustering.empty():\n",
    "            min_dists = onlineOracleClustering.modelsDistances( models)\n",
    "            for label, _ in models.items():\n",
    "                scores[label] = max(scores[label], 2-min_dists[label])\n",
    "        for label, _ in models.items():\n",
    "            res[label][i] = scores[label]\n",
    "        start = window.end\n",
    "    for label, _ in models.items():\n",
    "        res[label] = SlidingWindowFeature(res[label], embedding.sliding_window)\n",
    "    return res"
   ]
  },
  {
   "cell_type": "code",
   "execution_count": 10,
   "metadata": {
    "collapsed": false
   },
   "outputs": [
    {
     "name": "stderr",
     "output_type": "stream",
     "text": [
      "Training set: 28it [00:00, 83.89it/s]\n"
     ]
    }
   ],
   "source": [
    "from pyannote.audio.embedding.utils import l2_normalize\n",
    "models = {}\n",
    "for current_file in protocol.train():\n",
    "    annotation = current_file['annotation']\n",
    "    embedding = embeddings[get_unique_identifier(current_file)]\n",
    "    for label in annotation.labels():\n",
    "        if label in models:\n",
    "            continue\n",
    "        models[label] = l2_normalize(np.sum(embedding.crop(annotation.label_timeline(label)), axis=0, keepdims=True))"
   ]
  },
  {
   "cell_type": "code",
   "execution_count": 18,
   "metadata": {
    "collapsed": true
   },
   "outputs": [],
   "source": [
    "system = system3"
   ]
  },
  {
   "cell_type": "code",
   "execution_count": 20,
   "metadata": {
    "collapsed": false
   },
   "outputs": [
    {
     "name": "stderr",
     "output_type": "stream",
     "text": [
      "\n",
      "Development set: 0it [00:00, ?it/s]\u001b[A\n"
     ]
    },
    {
     "name": "stdout",
     "output_type": "stream",
     "text": [
      "Gérard_Menuel\n",
      "Bernard_Deflesselles\n",
      "<unknown>\n",
      "BFMTV_BFMStory_2011-01-03_175900_speaker#8\n",
      "Jacques_Myard\n",
      "Xavier_Bertrand\n",
      "Francis_Szpiner\n",
      "LCP_CaVousRegarde_2010-09-28_204900_speaker#4\n",
      "Dominique_Paillé\n",
      "Virginie_Goubier\n",
      "Philippe_Vasset\n",
      "Michel_Sapin\n",
      "Luc_Abratkiewicz\n",
      "BFMTV_BFMStory_2010-10-01_175900_speaker#1\n",
      "Bruno_Julliard\n",
      "BFMTV_BFMStory_2011-01-03_175900_speaker#3\n",
      "BFMTV_BFMStory_2010-10-01_175900_speaker#14\n",
      "BFMTV_BFMStory_2010-10-01_175900_speaker#17\n",
      "BFMTV_BFMStory_2011-01-03_175900_speaker#1\n",
      "Olivier_Metzner\n",
      "Philippe_Salvador\n",
      "Carl_Meeus\n",
      "Audrey-Sophie_Nacass\n",
      "Christophe_Caresche\n",
      "Anaïs_Goubatian\n",
      "Pascal_Schmitt\n",
      "Rachid_M'Barki\n",
      "Laurence_Ferrari\n",
      "BFMTV_BFMStory_2010-09-14_175900_speaker#1\n",
      "Christian_Prouteau\n",
      "Patrick_Mennucci\n",
      "Julia_Le_Correc\n",
      "Jean-Pierre_Decool\n",
      "Elisabeth_Guigou\n",
      "Marisol_Touraine\n",
      "Martine_Baudin\n",
      "Graziella_Rodrigues\n",
      "Olivier_Truchot\n",
      "Eric_Ciotti\n",
      "BFMTV_BFMStory_2010-10-01_175900_speaker#3\n",
      "Pierre-Yves_Bournazel\n",
      "Christine_Lagarde\n",
      "Julia_Delage\n",
      "Aurélie_Filippetti\n",
      "Michèle_Alliot-Marie\n",
      "Candice_Mahout\n",
      "Christophe_Ruaults\n",
      "Laurent_Fabius\n",
      "Alexis_Brezet\n",
      "Claude_Weill\n",
      "Yves_Fromion\n",
      "BFMTV_BFMStory_2010-10-01_175900_speaker#13\n",
      "Etienne_Pinte\n",
      "Thierry_Arnaud\n",
      "Jean-Jacques_Urvoas\n",
      "Xavier_de_Moulins\n",
      "Daniel\n",
      "BFMTV_BFMStory_2010-11-22_175900_speaker#2\n",
      "Laurence_Parisot\n",
      "LCP_EntreLesLignes_2011-02-13_135700_speaker#3\n",
      "BFMTV_BFMStory_2010-10-01_175900_speaker#11\n",
      "Jean_de_Tonquedec\n",
      "Jean-Pierre\n",
      "Catherine_Génisson\n",
      "LCP_CaVousRegarde_2010-09-28_204900_speaker#2\n",
      "Mathieu_Coache\n",
      "Clément\n",
      "Christophe_Régnard\n",
      "Henri_Sannier\n",
      "François_Brottes\n",
      "Bernard_Accoyer\n",
      "Henri_Vacquin\n",
      "BFMTV_BFMStory_2010-10-01_175900_speaker#4\n",
      "Alain_Juppé\n",
      "Bobby\n",
      "Jean-Louis_Malisse\n",
      "Noémie\n",
      "Annie_François\n",
      "LCP_CaVousRegarde_2010-11-22_204800_speaker#2\n",
      "Amgad_Sadek\n",
      "Céline_Couratin\n",
      "Alain_Marschall\n",
      "Claude_Bodin\n",
      "LCP_CaVousRegarde_2010-09-28_204900_speaker#3\n",
      "Sandra_Larue\n",
      "Georges_Tron\n",
      "Olivier_Dussopt\n",
      "Patrice_Gourrier\n",
      "Philippe_Goujon\n",
      "François_Pupponi\n",
      "Diane_Gouffrant\n",
      "LCP_CaVousRegarde_2010-10-18_204800_speaker#1\n",
      "Benoist_Apparu\n",
      "Didier_Rideret\n",
      "Farida_Setiti\n",
      "Marie-Françoise_Clergeau\n",
      "BFMTV_BFMStory_2010-10-01_175900_speaker#15\n",
      "Jean-Baptiste_Prévost\n",
      "Edwy_Plenel_\n",
      "Nicolas_Sarkozy\n",
      "Jean-Paul_Ollivier\n",
      "Jean-Louis_Borloo\n",
      "Anicet_Mbida\n",
      "BFMTV_BFMStory_2010-10-01_175900_speaker#12\n",
      "Laura_Flessel\n",
      "Pierre_Lellouche\n",
      "Jean-François_Pérès\n",
      "LCP_CaVousRegarde_2010-09-28_204900_speaker#1\n",
      "Ruth_Elkrief\n",
      "Gilles_Soulier\n",
      "Patrick_Sauce\n",
      "Jean-Paul_Bruneau\n",
      "Jean-Pierre_Gratien\n",
      "Laurent_Neumann\n",
      "LCP_CaVousRegarde_2010-11-22_204800_speaker#3\n",
      "Caroline_Mier\n",
      "Valérie_Brochard\n",
      "David_Pujadas\n",
      "Pierre-Alain_Muet\n",
      "Ivan_Rioufol\n",
      "Edward_Jay\n",
      "Michel\n",
      "Nadine_Morano\n",
      "Viviane_Reding\n",
      "BFMTV_BFMStory_2010-11-22_175900_speaker#1\n",
      "BFMTV_BFMStory_2010-10-01_175900_speaker#5\n",
      "Jean-Michel_Cadiot\n",
      "Laurent_El_Ghozi\n",
      "François_Sauvadet\n",
      "BFMTV_BFMStory_2010-10-01_175900_speaker#10\n",
      "Annick_Lepetit\n",
      "Thierry_Taponier\n",
      "Brice_Robin\n",
      "Yves_Cochet\n",
      "Yvon\n",
      "BFMTV_BFMStory_2010-09-03_175900_speaker#1\n",
      "Bernard_Debré\n",
      "Eric_Raoult\n",
      "Didier_Piard\n",
      "Marine_Le_Pen\n",
      "Thomas_Misrachi\n",
      "Véronique_Fèvre\n",
      "Fabien_Lefort\n",
      "Alexandre\n",
      "Bernard_Cazeneuve\n",
      "Bernard_Valéro\n",
      "Philippe_Bas\n",
      "Yves_Jégo\n",
      "BFMTV_BFMStory_2010-10-01_175900_speaker#18\n",
      "Daniel_Riolo\n",
      "Damien_Fleurot\n",
      "Marc_Dolez\n",
      "Jean-Marc_Ayrault\n",
      "Pierre_Chappard\n",
      "LCP_CaVousRegarde_2010-10-18_204800_speaker#2\n",
      "Jean-Marie_Le_Guen\n",
      "Arnaud_Ardoin\n",
      "Yann-Antony_Noghès\n",
      "Julien\n",
      "Marie_Duquesne\n",
      "Joanna_Briffault\n",
      "Sébastien_Prot\n",
      "Emmanuel_Schwartzenberg\n",
      "BFMTV_BFMStory_2011-01-03_175900_speaker#4\n",
      "BFMTV_BFMStory_2011-01-03_175900_speaker#2\n",
      "Henri_Emmanuelli\n",
      "Romain_Gubert\n",
      "Hervé_Gaymard\n",
      "Jean-Christophe_Cambadélis\n",
      "Luc_Chatel\n",
      "Benoît_Hamon\n",
      "Jean-Yves_Camus\n",
      "BFMTV_BFMStory_2010-10-01_175900_speaker#9\n",
      "Alain_Gallopin\n",
      "Roselyne_Bachelot\n",
      "François_Giuseppi\n",
      "BFMTV_BFMStory_2010-10-01_175900_speaker#8\n",
      "Denis_Demonpion\n",
      "BFMTV_BFMStory_2010-10-01_175900_speaker#7\n",
      "BFMTV_BFMStory_2010-10-01_175900_speaker#16\n",
      "Jean-Emmanuel_Robert\n",
      "LCP_CaVousRegarde_2010-11-22_204800_speaker#1\n",
      "Pascal_Perri\n",
      "François_Fillon\n",
      "Marine\n"
     ]
    }
   ],
   "source": [
    "from pyannote.metrics.spotting import LowLatencySpeakerSpotting\n",
    "metric = LowLatencySpeakerSpotting(thresholds=np.linspace(0, 2, 50))\n",
    "\n",
    "# for each file in development set\n",
    "for current_file in protocol.development():\n",
    "    annotation = current_file['annotation']\n",
    "    embedding = embeddings[get_unique_identifier(current_file)]\n",
    "    # for each model from enrollment\n",
    "    for label, model in models.items():\n",
    "        # compute score stream wrt. to this model\n",
    "        scores = system(embedding, model, annotation)\n",
    "        # evaluate this trial\n",
    "        reference = annotation.subset([label])\n",
    "        metric(reference, scores)\n",
    "    break"
   ]
  },
  {
   "cell_type": "code",
   "execution_count": 23,
   "metadata": {
    "collapsed": true
   },
   "outputs": [],
   "source": [
    "system = system4"
   ]
  },
  {
   "cell_type": "code",
   "execution_count": 30,
   "metadata": {
    "collapsed": false
   },
   "outputs": [
    {
     "name": "stderr",
     "output_type": "stream",
     "text": [
      "\n",
      "Development set: 0it [00:00, ?it/s]\u001b[A\n",
      "Development set: 9it [15:36, 67.46s/it] \n"
     ]
    }
   ],
   "source": [
    "metric = LowLatencySpeakerSpotting(thresholds=np.linspace(0, 2, 50))\n",
    "\n",
    "# for each file in development set\n",
    "for current_file in protocol.development():\n",
    "    annotation = current_file['annotation']\n",
    "    embedding = embeddings[get_unique_identifier(current_file)]\n",
    "    # for each model from enrollment\n",
    "    scores = system4(embedding, models, oracle_diarization=annotation)\n",
    "    for label, _ in models.items():\n",
    "        # compute score stream wrt. to this model\n",
    "        score = scores[label]\n",
    "        # evaluate this trial\n",
    "        reference = annotation.subset([label])\n",
    "        metric(reference, score)"
   ]
  },
  {
   "cell_type": "markdown",
   "metadata": {},
   "source": [
    "### DET curve"
   ]
  },
  {
   "cell_type": "code",
   "execution_count": 38,
   "metadata": {
    "collapsed": false
   },
   "outputs": [
    {
     "data": {
      "text/plain": [
       "<matplotlib.legend.Legend at 0x7f0330186a58>"
      ]
     },
     "execution_count": 38,
     "metadata": {},
     "output_type": "execute_result"
    },
    {
     "data": {
      "image/png": "[encoded data removed]",
      "text/plain": [
       "<matplotlib.figure.Figure at 0x7f0346dd3d68>"
      ]
     },
     "metadata": {},
     "output_type": "display_data"
    }
   ],
   "source": [
    "thresholds, fpr, fnr, eer, cdet = metric.det_curve()\n",
    "loglog(fpr, fnr); xlabel('False alarm rate'); ylabel('False rejection rate');\n",
    "plot([eer,], [eer,], 'o', label='EER = {0:.1f}%'.format(100*eer))\n",
    "legend()"
   ]
  },
  {
   "cell_type": "markdown",
   "metadata": {},
   "source": [
    "### $C_{det}$ cost as a function of the detection threshold"
   ]
  },
  {
   "cell_type": "code",
   "execution_count": 43,
   "metadata": {
    "collapsed": false
   },
   "outputs": [
    {
     "data": {
      "image/png": "[encoded data removed]",
      "text/plain": [
       "<matplotlib.figure.Figure at 0x7f033065c0f0>"
      ]
     },
     "metadata": {},
     "output_type": "display_data"
    }
   ],
   "source": [
    "plot(thresholds, cdet, label='Cdet'); xlabel('Threshold'); ylabel('Cdet');"
   ]
  }
 ],
 "metadata": {
  "kernelspec": {
   "display_name": "Python 3",
   "language": "python",
   "name": "python3"
  },
  "language_info": {
   "codemirror_mode": {
    "name": "ipython",
    "version": 3
   },
   "file_extension": ".py",
   "mimetype": "text/x-python",
   "name": "python",
   "nbconvert_exporter": "python",
   "pygments_lexer": "ipython3",
   "version": "3.5.3"
  }
 },
 "nbformat": 4,
 "nbformat_minor": 2
}
